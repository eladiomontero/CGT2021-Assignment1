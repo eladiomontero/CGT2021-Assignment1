{
 "cells": [
  {
   "cell_type": "markdown",
   "metadata": {},
   "source": [
    "# Assignment 1 for the CGT/LD course"
   ]
  },
  {
   "cell_type": "code",
   "execution_count": 1,
   "metadata": {},
   "outputs": [],
   "source": [
    "import numpy as np\n",
    "# Plotting libraries\n",
    "import matplotlib.pylab as plt\n",
    "# Magic function to make matplotlib inline; other style specs must come AFTER\n",
    "%matplotlib inline\n",
    "# This enables high resolution PNGs.\n",
    "%config InlineBackend.figure_formats = {'png', 'svg'}"
   ]
  },
  {
   "cell_type": "markdown",
   "metadata": {},
   "source": [
    "## Exercise 1.3 : Find the set of Nash equilibria (pure and mixed) in the Schedule-Chicken game"
   ]
  },
  {
   "cell_type": "markdown",
   "metadata": {},
   "source": [
    "### Example"
   ]
  },
  {
   "cell_type": "code",
   "execution_count": 3,
   "metadata": {},
   "outputs": [],
   "source": [
    "import nashpy as nash"
   ]
  },
  {
   "cell_type": "code",
   "execution_count": 4,
   "metadata": {},
   "outputs": [],
   "source": [
    "def scheadule_game_equilibria(E, F, T):\n",
    "    \"\"\"\n",
    "    This function returns the Nash equilibria of\n",
    "    a Schedule Chicken game with its payoff matrix being a\n",
    "    function of E, F and T.\n",
    "    \"\"\"\n",
    "    # payoff matrix for the row player\n",
    "    hg_matrix_row = np.array([\n",
    "        [ (E-F)/2, E],\n",
    "        [ 0      , E-T],\n",
    "    ])\n",
    "    # payoff matrix for the column player\n",
    "    hg_matrix_col = hg_matrix_row.T\n",
    "    \n",
    "    # Create game\n",
    "    game = nash.Game(hg_matrix_row, hg_matrix_col)\n",
    "    \n",
    "    # Find all equilibria\n",
    "    return list(game.support_enumeration())"
   ]
  },
  {
   "cell_type": "markdown",
   "metadata": {},
   "source": [
    "#### Find Nash equilibria"
   ]
  },
  {
   "cell_type": "markdown",
   "metadata": {},
   "source": [
    "Comment this section if you do not have ipywidgets installed!"
   ]
  },
  {
   "cell_type": "code",
   "execution_count": 5,
   "metadata": {},
   "outputs": [],
   "source": [
    "from ipywidgets import interact, FloatSlider"
   ]
  },
  {
   "cell_type": "code",
   "execution_count": 6,
   "metadata": {},
   "outputs": [
    {
     "data": {
      "application/vnd.jupyter.widget-view+json": {
       "model_id": "e167f05871f54007a675f5f5461b7440",
       "version_major": 2,
       "version_minor": 0
      },
      "text/plain": [
       "interactive(children=(IntSlider(value=2, description='E', max=6, min=-2), IntSlider(value=3, description='F', …"
      ]
     },
     "metadata": {},
     "output_type": "display_data"
    }
   ],
   "source": [
    "@interact(V=FloatSlider(min=-10, max=10, step=0.1, value=2), \n",
    "          D=FloatSlider(min=-10, max=10, step=0.1, value=3), \n",
    "          T=FloatSlider(min=-10, max=10, step=0.1, value=1))\n",
    "def show_articles_more_than(E=2, F=3, T=1):\n",
    "    return scheadule_game_equilibria(E, F, T)"
   ]
  },
  {
   "cell_type": "code",
   "execution_count": null,
   "metadata": {},
   "outputs": [],
   "source": []
  }
 ],
 "metadata": {
  "kernelspec": {
   "display_name": "Python 3",
   "language": "python",
   "name": "python3"
  },
  "language_info": {
   "codemirror_mode": {
    "name": "ipython",
    "version": 3
   },
   "file_extension": ".py",
   "mimetype": "text/x-python",
   "name": "python",
   "nbconvert_exporter": "python",
   "pygments_lexer": "ipython3",
   "version": "3.7.4"
  }
 },
 "nbformat": 4,
 "nbformat_minor": 4
}
